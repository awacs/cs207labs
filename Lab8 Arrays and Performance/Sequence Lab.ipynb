{
 "cells": [
  {
   "cell_type": "code",
   "execution_count": 1,
   "metadata": {
    "collapsed": false
   },
   "outputs": [
    {
     "name": "stdout",
     "output_type": "stream",
     "text": [
      "Overwriting arraytimeseries.py\n"
     ]
    }
   ],
   "source": [
    "%%file arraytimeseries.py\n",
    "import numpy as np\n",
    "class ArrayTimeSeries(): \n",
    "    \"\"\"\n",
    "    An class that takes a sequence of integers or floats as input\n",
    "    \n",
    "    Parameters\n",
    "    ----------\n",
    "    data : any finite numeric sequence\n",
    "   \n",
    "    Returns\n",
    "    -------\n",
    "    len(TimeSeries): int\n",
    "        an integer representing the length of the time series\n",
    "    Timeseries[position:int]: number\n",
    "        returns the value of the TimeSeries at position\n",
    "    Timeseries[position:int] = value:int/float\n",
    "        set value of TimeSeries at position to be value\n",
    "    __str__ / __repr__:\n",
    "        when printing TimeSeries, if the total length of the Timeseries is greater than 10\n",
    "        the result shows the first ten elements and its total length, else it prints the \n",
    "        whole Timeseries\n",
    "        \n",
    "    Examples\n",
    "    --------\n",
    "    >>> threes = ArrayTimeSeries(range(0,10000,3))\n",
    "    >>> zeroes = ArrayTimeSeries(range(0,10,3))\n",
    "    >>> len(threes)\n",
    "    3334\n",
    "    >>> threes[10]\n",
    "    30\n",
    "    >>> threes[10]=10\n",
    "    >>> threes[10]\n",
    "    10\n",
    "    >>> print(zeroes)\n",
    "    [0 3 6 9]\n",
    "    >>> print(threes)\n",
    "    [ 3  6  9 12 15 18 21 24 27...,length=3334]\n",
    "        \n",
    "    Notes\n",
    "    -----\n",
    "    PRE: `data` is numeric\n",
    "    \n",
    "    \"\"\"\n",
    "    def __init__(self,data):\n",
    "        self.data=np.array(data)\n",
    "        self.len=len(data)\n",
    "    def __len__(self):\n",
    "        return len(self.data)\n",
    "    def __getitem__(self, position):\n",
    "        return self.data[position]\n",
    "    def __setitem__(self,position,value):\n",
    "        self.data[position]=value\n",
    "    def __str__(self):\n",
    "        if self.len>10:\n",
    "            return '[{}...,length={}]'.format(str(self.data[1:10])[1:-1], self.len)\n",
    "        return '{}'.format(self.data)\n",
    "    def __repr__(self):\n",
    "        if self.len>10:\n",
    "            return '[{}...,length={}]'.format(str(self.data[1:10])[1:-1], self.len)\n",
    "        return '{}'.format(self.data)\n",
    "    "
   ]
  },
  {
   "cell_type": "code",
   "execution_count": 6,
   "metadata": {
    "collapsed": false
   },
   "outputs": [
    {
     "data": {
      "text/plain": [
       "array([1, 2, 3])"
      ]
     },
     "execution_count": 6,
     "metadata": {},
     "output_type": "execute_result"
    }
   ],
   "source": [
    "from arraytimeseries import ArrayTimeSeries\n",
    "a=ArrayTimeSeries([1,2,3])\n",
    "a[0:3]"
   ]
  },
  {
   "cell_type": "code",
   "execution_count": 4,
   "metadata": {
    "collapsed": false
   },
   "outputs": [
    {
     "name": "stdout",
     "output_type": "stream",
     "text": [
      "Finding tests in NoName\n",
      "Trying:\n",
      "    threes = ArrayTimeSeries(range(0,10000,3))\n",
      "Expecting nothing\n",
      "ok\n",
      "Trying:\n",
      "    zeroes = ArrayTimeSeries(range(0,10,3))\n",
      "Expecting nothing\n",
      "ok\n",
      "Trying:\n",
      "    len(threes)\n",
      "Expecting:\n",
      "    3334\n",
      "ok\n",
      "Trying:\n",
      "    threes[10]\n",
      "Expecting:\n",
      "    30\n",
      "ok\n",
      "Trying:\n",
      "    threes[10]=10\n",
      "Expecting nothing\n",
      "ok\n",
      "Trying:\n",
      "    threes[10]\n",
      "Expecting:\n",
      "    10\n",
      "ok\n",
      "Trying:\n",
      "    print(zeroes)\n",
      "Expecting:\n",
      "    [0 3 6 9]\n",
      "ok\n",
      "Trying:\n",
      "    print(threes)\n",
      "Expecting:\n",
      "    [ 3  6  9 12 15 18 21 24 27...,length=3334]\n",
      "ok\n"
     ]
    }
   ],
   "source": [
    "from pydoc import doc as pydoc\n",
    "from doctest import run_docstring_examples as dtest\n",
    "dtest(ArrayTimeSeries, globals(), verbose=True)"
   ]
  },
  {
   "cell_type": "code",
   "execution_count": null,
   "metadata": {
    "collapsed": true
   },
   "outputs": [],
   "source": [
    "#todo: make a copy instead????\n",
    "from doctest import run_docstring_examples as dtest\n",
    "import numbers\n",
    "import reprlib\n",
    "class LL:\n",
    "    \"\"\"\n",
    "    >>> A = LL()  \n",
    "    >>> A[0]\n",
    "    Traceback (most recent call last):\n",
    "        ...\n",
    "    IndexError: trying to index an empty LL\n",
    "    >>> A.insert_front(1)\n",
    "    >>> A[0]\n",
    "    1\n",
    "    >>> A.insert_back(2)\n",
    "    >>> A[1]\n",
    "    2\n",
    "    >>> A\n",
    "    LL([1,...])\n",
    "    >>> myll = LL.from_components([1,2])\n",
    "    >>> myll[1]\n",
    "    1\n",
    "    >>> len(myll)\n",
    "    2\n",
    "    >>> myll[2]\n",
    "    Traceback (most recent call last):\n",
    "        ...\n",
    "    IndexError: LL index out of range\n",
    "    >>> myll[0:1]\n",
    "    Traceback (most recent call last):\n",
    "        ...\n",
    "    TypeError: LL indices must be integers\n",
    "    \"\"\"\n",
    "    @classmethod\n",
    "    def from_components(cls, components):\n",
    "        inst = cls(components[0])\n",
    "        for c in components[1:]:\n",
    "            inst.insert_front(c)\n",
    "        return inst\n",
    "        \n",
    "    def __init__(self, head=None):\n",
    "        if head is None:\n",
    "            self._headNode = None\n",
    "        else:\n",
    "            self._headNode = [head, None]\n",
    "            \n",
    "    def insert_front(self, element):\n",
    "        new_node = [element, None]\n",
    "        new_node[1] = self._headNode\n",
    "        self._headNode = new_node\n",
    "        \n",
    "    def insert_back(self, element):\n",
    "        new_node = [element, None]\n",
    "        curr_ptr = self._headNode\n",
    "        while curr_ptr[1] is not None:\n",
    "            curr_ptr = curr_ptr[1]\n",
    "        curr_ptr[1]= new_node\n",
    "        \n",
    "    def __repr__(self):\n",
    "        class_name = type(self).__name__\n",
    "        if len(self)==0:\n",
    "            components=\"\"\n",
    "        else:\n",
    "            components = reprlib.repr(self[0])\n",
    "        return '{}([{},...])'.format(class_name,components)\n",
    "\n",
    "\n",
    "    def __len__(self):\n",
    "        curr_ptr = self._headNode\n",
    "        count = 0\n",
    "        if curr_ptr==None:\n",
    "            return 0\n",
    "        while 1:\n",
    "            count = count + 1\n",
    "            if curr_ptr[1] is None:\n",
    "                break\n",
    "            curr_ptr = curr_ptr[1]\n",
    "        return count    \n",
    "    \n",
    "    def __getitem__(self, index):\n",
    "        class_name = type(self).__name__\n",
    "        if isinstance(index, numbers.Integral): \n",
    "            curr_ptr = self._headNode\n",
    "            if curr_ptr==None:\n",
    "                msg = 'trying to index an empty {class_name}' \n",
    "                raise IndexError(msg.format(class_name=class_name))\n",
    "            next_ptr = self._headNode[1]\n",
    "            count = 0\n",
    "            while 1:\n",
    "                if index == count:\n",
    "                    return curr_ptr[0]\n",
    "                if curr_ptr[1] is None:\n",
    "                    msg = '{class_name} index out of range' \n",
    "                    raise IndexError(msg.format(class_name=class_name))       \n",
    "                count += 1\n",
    "                curr_ptr = curr_ptr[1]\n",
    "        else:\n",
    "            msg = '{class_name} indices must be integers' \n",
    "            raise TypeError(msg.format(class_name=class_name))"
   ]
  },
  {
   "cell_type": "code",
   "execution_count": null,
   "metadata": {
    "collapsed": true
   },
   "outputs": [],
   "source": []
  }
 ],
 "metadata": {
  "kernelspec": {
   "display_name": "Python 3",
   "language": "python",
   "name": "python3"
  },
  "language_info": {
   "codemirror_mode": {
    "name": "ipython",
    "version": 3
   },
   "file_extension": ".py",
   "mimetype": "text/x-python",
   "name": "python",
   "nbconvert_exporter": "python",
   "pygments_lexer": "ipython3",
   "version": "3.5.1"
  }
 },
 "nbformat": 4,
 "nbformat_minor": 0
}
