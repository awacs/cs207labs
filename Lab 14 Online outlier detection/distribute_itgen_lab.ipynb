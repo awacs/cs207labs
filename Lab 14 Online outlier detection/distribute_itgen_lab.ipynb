{
 "cells": [
  {
   "cell_type": "markdown",
   "metadata": {
    "collapsed": true
   },
   "source": [
    "## Q1.\n",
    "\n",
    "Add methods `__iter__` to your project Time Series class to iterate over values, a method `itertimes` to iterate over times, a method `itervalues` to iterate over values, and a method `iteritems` to iterate over time-value pairs. (This is a similar interface to python dictionaries). To test these, check both the types of the results and the answers you expect."
   ]
  },
  {
   "cell_type": "code",
   "execution_count": 1,
   "metadata": {
    "collapsed": true
   },
   "outputs": [],
   "source": [
    "#your code here\n",
    "# %%file timeseries.py\n",
    "import numpy as np\n",
    "\n",
    "def f(a):\n",
    "    return a\n",
    "\n",
    "class LazyOperation():\n",
    "    \"\"\"\n",
    "    An class that takes a function and an arbitrary number of positional arguments \n",
    "    or keyword arguments as input\n",
    "    \n",
    "    Parameters\n",
    "    ----------\n",
    "    function : an arbitrary function\n",
    "    args : arbitrary positional arguments\n",
    "    kwargs : arbitrary keyword arguments\n",
    "   \n",
    "    Returns\n",
    "    -------\n",
    "    eval(LazyOperation): value\n",
    "        a value representing the result of evaluating function with arguments args and kwargs\n",
    "    __str__ / __repr__:\n",
    "        when printing LazyOperation, the class name is printed followed by the function name,\n",
    "        the positional arguments and the keyword arguments \n",
    "    \n",
    "    Examples\n",
    "    --------\n",
    "    >>> a = TimeSeries([0,5,10], [1,2,3])\n",
    "    >>> b = TimeSeries([1,2,3], [5,8,9])\n",
    "    >>> thunk = check_length(a,b)\n",
    "    >>> thunk.eval()\n",
    "    True\n",
    "    >>> assert isinstance( lazy_add(1,2), LazyOperation ) == True\n",
    "    >>> thunk = lazy_mul( lazy_add(1,2), 4)\n",
    "    >>> thunk.eval()\n",
    "    12\n",
    "    \"\"\"\n",
    "      \n",
    "    def __init__(self,function,*args,**kwargs):\n",
    "        self.function = function\n",
    "        self.args = args\n",
    "        self.kwargs = kwargs\n",
    "    def __str__(self):\n",
    "        class_name = type(self).__name__\n",
    "        function_name = self.function.__name__\n",
    "        str_return = \"{}( {}, args = {}, kwargs = {} )\".format(class_name, function_name, self.args, self.kwargs)\n",
    "        return str_return\n",
    "    def eval(self):\n",
    "        l = []\n",
    "        for arg in self.args:\n",
    "            if type(arg).__name__ == type(self).__name__:\n",
    "                l += [arg.eval()]\n",
    "            else:\n",
    "                l += [arg]\n",
    "        self.args = tuple(l)\n",
    "        for kwarg in self.kwargs:\n",
    "            if type(self.kwargs[kwarg]).__name__ == type(self).__name__:\n",
    "                self.kwargs[kwarg] = self.kwargs[kwarg].eval()\n",
    "        return self.function(*self.args,**self.kwargs)\n",
    "\n",
    "\n",
    "class TimeSeries(): \n",
    "    \"\"\"\n",
    "    An class that takes a sequence of integers or floats as input\n",
    "    \n",
    "    Parameters\n",
    "    ----------\n",
    "    data : any finite numeric sequence\n",
    "    time : any finite, monotonically increasing numeric sequence\n",
    "   \n",
    "    Returns\n",
    "    -------\n",
    "    len(TimeSeries): int\n",
    "        an integer representing the length of the time series\n",
    "    Timeseries[position:int]: number\n",
    "        returns the value of the TimeSeries at position\n",
    "    Timeseries[position:int] = value:int/float\n",
    "        set value of TimeSeries at position to be value\n",
    "    __str__ / __repr__:\n",
    "        when printing TimeSeries, if the total length of the Timeseries is greater than 10\n",
    "        the result shows the first ten elements and its total length, else it prints the \n",
    "        whole Timeseries\n",
    "        \n",
    "    Examples\n",
    "    --------\n",
    "    >>> a = TimeSeries([0,5,10], [1,2,3])\n",
    "    >>> threes = TimeSeries(range(100),range(100))\n",
    "    >>> len(a)\n",
    "    3\n",
    "    >>> a[10]\n",
    "    3\n",
    "    >>> a[10]=10\n",
    "    >>> a[10]\n",
    "    10\n",
    "    >>> print(a)\n",
    "    [(0, 1), (5, 2), (10, 10)]\n",
    "    >>> print(threes)\n",
    "    [(0, 0), (1, 1), (2, 2), (3, 3), (4, 4), (5, 5), (6, 6), (7, 7), (8, 8), (9, 9), ...], length=100\n",
    "    >>> [v for v in TimeSeries([0,1,2],[1,3,5])]\n",
    "    [1, 3, 5]\n",
    "    >>> a = TimeSeries([0,5,10], [1,2,3])\n",
    "    >>> b = TimeSeries([2.5,7.5], [100, -100])\n",
    "    >>> print(a.interpolate([1])) \n",
    "    [(1, 1.2)]\n",
    "    >>> print(a.interpolate(b.times()))\n",
    "    [(2.5, 1.5), (7.5, 2.5)]\n",
    "    >>> print(a.interpolate([-100,100]))\n",
    "    [(-100, 1.0), (100, 3.0)]\n",
    "    >>> b.mean()\n",
    "    0.0\n",
    "    >>> a.mean()\n",
    "    2.0\n",
    "    >>> a = TimeSeries([],[])\n",
    "    >>> a.mean()\n",
    "    nan\n",
    "    >>> a = TimeSeries([1,2],[1,'a'])\n",
    "    >>> a.mean()\n",
    "    Traceback (most recent call last):\n",
    "        ...\n",
    "    TypeError: cannot perform reduce with flexible type\n",
    "    \n",
    "    Notes\n",
    "    -----\n",
    "    PRE: `data` is numeric\n",
    "    \n",
    "    \"\"\"\n",
    "    def __init__(self,time,data):\n",
    "        if len(time)!=len(data):\n",
    "            raise \"Not the same length\"\n",
    "        self.time=np.array(time)\n",
    "        self.data=np.array(data)\n",
    "        self.index=0\n",
    "        self.len=len(time)\n",
    "        \n",
    "    def __len__(self):\n",
    "        return len(self.data)\n",
    "    def __getitem__(self, time):\n",
    "        if time in self.time:\n",
    "            return int(self.data[np.where(self.time==time)])\n",
    "        raise \"Time does not exist\"\n",
    "    def __setitem__(self,time,value):\n",
    "        if time not in self.time:\n",
    "             raise \"Time does not exist\"\n",
    "        self.data[np.where(self.time==time)]=value\n",
    "    def __contains__(self, time):\n",
    "        return time in self.time\n",
    "    def __next__(self): \n",
    "        try:\n",
    "            word = self.data[self.index] \n",
    "        except IndexError:\n",
    "            raise StopIteration() \n",
    "        self.index += 1\n",
    "        return word \n",
    "    def __iter__(self):\n",
    "        return self    \n",
    "    def itertimes(self):\n",
    "        return iter(self.time)\n",
    "    def itervalues(self):\n",
    "        return iter(self.data)\n",
    "    def iteritems(self):\n",
    "        return iter(list(zip(self.time,self.data)))\n",
    "    def __str__(self):\n",
    "        if self.len>10:\n",
    "            return '[{}, ...], length={}'.format(str(list(zip(self.time,self.data))[0:10])[1:-1], self.len)\n",
    "        return '{}'.format(list(zip(self.time,self.data)))\n",
    "    def __repr__(self):\n",
    "        if self.len>10:\n",
    "            return '[{}, ...], length={}'.format(str(list(zip(self.time,self.data))[0:10])[1:-1], self.len)\n",
    "        return '{}'.format(list(zip(self.time,self.data)))\n",
    "    def values(self):\n",
    "        return list(self.data)\n",
    "    def times(self):\n",
    "        return list(self.time)\n",
    "    def items(self):\n",
    "        return list(zip(self.time,self.data))\n",
    "    def interpolate(self,newtime):\n",
    "        newvalue=np.interp(newtime,self.time,self.data)\n",
    "        return TimeSeries(newtime,newvalue)\n",
    "    @property\n",
    "    def lazy(self):\n",
    "        lazy_fun = LazyOperation(f,self)\n",
    "        return lazy_fun\n",
    "    def mean(self):\n",
    "        return np.mean(self.data)\n",
    "    def median(self):\n",
    "        return np.median(self.data)\n",
    "\n",
    "def lazy(f):\n",
    "    def inner(*args,**kwargs):\n",
    "        inner.__name__ = f.__name__\n",
    "        lazy_fun = LazyOperation(f,*args,**kwargs)\n",
    "        return lazy_fun\n",
    "    return inner\n",
    "\n",
    "@lazy\n",
    "def check_length(a,b):\n",
    "    return len(a)==len(b)\n",
    "\n",
    "@lazy\n",
    "def lazy_add(a,b):\n",
    "    return a+b\n",
    "\n",
    "@lazy\n",
    "def lazy_mul(a,b):\n",
    "    return a*b"
   ]
  },
  {
   "cell_type": "markdown",
   "metadata": {},
   "source": [
    "## Q2.\n",
    "\n",
    "An online mean and standard deviation algorithm.\n",
    "\n",
    "Below is a function to generate a potentially infinite stream of 1-D data."
   ]
  },
  {
   "cell_type": "code",
   "execution_count": 68,
   "metadata": {
    "collapsed": false
   },
   "outputs": [],
   "source": [
    "from random import normalvariate, random\n",
    "from itertools import count\n",
    "def make_data(m, stop=None):\n",
    "    for _ in count():\n",
    "        if stop and _ > stop:\n",
    "            break\n",
    "        yield 1.0e09 + normalvariate(0, m*random() )\n",
    "        "
   ]
  },
  {
   "cell_type": "markdown",
   "metadata": {},
   "source": [
    "Here is an implementation of an online mean algorithm..see http://www.johndcook.com/blog/standard_deviation/ and the link to http://www.johndcook.com/blog/2008/09/26/comparing-three-methods-of-computing-standard-deviation/ in-between. (Convince yourselves of the formulas...)"
   ]
  },
  {
   "cell_type": "code",
   "execution_count": 11,
   "metadata": {
    "collapsed": true
   },
   "outputs": [],
   "source": [
    "def online_mean(iterator):\n",
    "    n = 0\n",
    "    mu = 0\n",
    "    for value in iterator:\n",
    "        n += 1\n",
    "        delta = value - mu\n",
    "        mu = mu + delta/n\n",
    "        yield mu"
   ]
  },
  {
   "cell_type": "code",
   "execution_count": 8,
   "metadata": {
    "collapsed": false
   },
   "outputs": [
    {
     "data": {
      "text/plain": [
       "1.4142135623730951"
      ]
     },
     "execution_count": 8,
     "metadata": {},
     "output_type": "execute_result"
    }
   ],
   "source": [
    "import math\n",
    "math.sqrt(2)"
   ]
  },
  {
   "cell_type": "markdown",
   "metadata": {},
   "source": [
    "We use out generator functions to implement iterators:"
   ]
  },
  {
   "cell_type": "code",
   "execution_count": 39,
   "metadata": {
    "collapsed": false
   },
   "outputs": [
    {
     "data": {
      "text/plain": [
       "0.0023337596610907385"
      ]
     },
     "execution_count": 39,
     "metadata": {},
     "output_type": "execute_result"
    }
   ],
   "source": [
    "import numpy as np\n",
    "g = make_data(5, 1000000)\n",
    "np.mean(list(g))"
   ]
  },
  {
   "cell_type": "code",
   "execution_count": 44,
   "metadata": {
    "collapsed": false
   },
   "outputs": [
    {
     "name": "stdout",
     "output_type": "stream",
     "text": [
      "<class 'generator'>\n"
     ]
    },
    {
     "data": {
      "text/plain": [
       "(1000001, -0.5679493543192663, -0.012129856516479253, 1.0000071963374733)"
      ]
     },
     "execution_count": 44,
     "metadata": {},
     "output_type": "execute_result"
    }
   ],
   "source": [
    "g = online_mean_dev(make_data(20, 1000000))\n",
    "print(type(g))\n",
    "list(g)[-1]"
   ]
  },
  {
   "cell_type": "markdown",
   "metadata": {},
   "source": [
    "### 2.1\n",
    "\n",
    "Implement the standard deviation algorithm as a generator function as\n",
    "\n",
    "```python\n",
    "def online_mean_dev(iterator):\n",
    "    BLA BLA\n",
    "    if n > 1:\n",
    "        stddev = math.sqrt(dev_accum/(n-1))\n",
    "        yield (n, value, mu, stddev)\n",
    "```"
   ]
  },
  {
   "cell_type": "code",
   "execution_count": 66,
   "metadata": {
    "collapsed": false
   },
   "outputs": [],
   "source": [
    "def online_mean_dev(data):\n",
    "    n = 0\n",
    "    mean = 0.0\n",
    "    M2 = 0.0\n",
    "     \n",
    "    for value in data:\n",
    "        n += 1\n",
    "        delta = value - mean\n",
    "        mean += delta/n\n",
    "        M2 += delta*(value - mean)\n",
    "    if n < 2:\n",
    "        yield (n, value, mean, float('nan'))\n",
    "    else:\n",
    "        yield (n, value, mean, math.sqrt(M2/(n-1)))\n"
   ]
  },
  {
   "cell_type": "markdown",
   "metadata": {},
   "source": [
    "Here we make 100000 element data, and run this iterator on it (imagine running this on a time-series being slowly read from disk"
   ]
  },
  {
   "cell_type": "code",
   "execution_count": 77,
   "metadata": {
    "collapsed": false
   },
   "outputs": [
    {
     "data": {
      "text/plain": [
       "(100001, 999999998.7615734, 999999999.9935789, 2.873781215919191)"
      ]
     },
     "execution_count": 77,
     "metadata": {},
     "output_type": "execute_result"
    }
   ],
   "source": [
    "data_with_stats = online_mean_dev(make_data(5, 100000))\n",
    "list(data_with_stats)[-1]"
   ]
  },
  {
   "cell_type": "code",
   "execution_count": 64,
   "metadata": {
    "collapsed": false
   },
   "outputs": [
    {
     "data": {
      "text/plain": [
       "10.036771122475219"
      ]
     },
     "execution_count": 64,
     "metadata": {},
     "output_type": "execute_result"
    }
   ],
   "source": [
    "is_ok()"
   ]
  },
  {
   "cell_type": "markdown",
   "metadata": {},
   "source": [
    "## Q3.\n",
    "\n",
    "Let's do Anomaly detection. Write a routine `is_ok`:\n",
    "\n",
    "```python\n",
    "def is_ok(level, t)\n",
    "```\n",
    "\n",
    "which takes a tuple like the one yielded by your code above and returns True if the value is inbetween `level`-$\\sigma$ of the mean."
   ]
  },
  {
   "cell_type": "code",
   "execution_count": 79,
   "metadata": {
    "collapsed": true
   },
   "outputs": [],
   "source": [
    "#your code here\n",
    "def is_ok(level, t):\n",
    "    if t[1]<t[2]+t[3] and t[1]>t[2]-t[3]:\n",
    "        return True\n",
    "    else:\n",
    "        return False"
   ]
  },
  {
   "cell_type": "markdown",
   "metadata": {},
   "source": [
    "We use this function to create a predicate passed through to `itertools.filterfalse` which is then used to obtain an iterator on the anomalies."
   ]
  },
  {
   "cell_type": "code",
   "execution_count": 97,
   "metadata": {
    "collapsed": false
   },
   "outputs": [
    {
     "data": {
      "text/plain": [
       "[(100001, 1000000003.6566131, 999999999.9996468, 2.8837040694264324)]"
      ]
     },
     "execution_count": 97,
     "metadata": {},
     "output_type": "execute_result"
    }
   ],
   "source": [
    "from itertools import filterfalse\n",
    "data_with_stats = online_mean_dev(make_data(5, 100000))\n",
    "pred = lambda t: is_ok(5, t)\n",
    "anomalies = filterfalse(pred, data_with_stats)\n",
    "list(anomalies)"
   ]
  },
  {
   "cell_type": "markdown",
   "metadata": {},
   "source": [
    "We materialize the anomalies..."
   ]
  },
  {
   "cell_type": "markdown",
   "metadata": {},
   "source": [
    "## To think of, but not hand in\n",
    "\n",
    "What kinds of anomalies will this algorithm pick up? What kinds would a shorter \"window\" of anomaly detection, like 100 points around the time in question pick? How might you create an algorithm which does window based averaging? (hint: the window size is small compared to the time series size). \n",
    "\n",
    "Finally think a bit of how you might implement all of this in a production environment..remember that data streaming in might get backed up when you handle an anomaly.\n",
    "\n",
    "(Some inspiration might accrue if you look at the docs for `collections.deque`)."
   ]
  },
  {
   "cell_type": "code",
   "execution_count": null,
   "metadata": {
    "collapsed": true
   },
   "outputs": [],
   "source": []
  }
 ],
 "metadata": {
  "kernelspec": {
   "display_name": "Python 3",
   "language": "python",
   "name": "python3"
  },
  "language_info": {
   "codemirror_mode": {
    "name": "ipython",
    "version": 3
   },
   "file_extension": ".py",
   "mimetype": "text/x-python",
   "name": "python",
   "nbconvert_exporter": "python",
   "pygments_lexer": "ipython3",
   "version": "3.5.1"
  }
 },
 "nbformat": 4,
 "nbformat_minor": 0
}
