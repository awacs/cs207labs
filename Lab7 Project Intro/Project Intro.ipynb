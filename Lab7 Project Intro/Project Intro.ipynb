{
 "cells": [
  {
   "cell_type": "markdown",
   "metadata": {},
   "source": [
    "Project Intro"
   ]
  },
  {
   "cell_type": "code",
   "execution_count": 1,
   "metadata": {
    "collapsed": false
   },
   "outputs": [
    {
     "name": "stdout",
     "output_type": "stream",
     "text": [
      "Overwriting timeseries.py\n"
     ]
    }
   ],
   "source": [
    "%%file timeseries.py\n",
    "class TimeSeries(): \n",
    "    \"\"\"\n",
    "    An class that takes a sequence of integers or floats as input\n",
    "    \n",
    "    Parameters\n",
    "    ----------\n",
    "    data : any finite numeric sequence\n",
    "   \n",
    "    Returns\n",
    "    -------\n",
    "    len(TimeSeries): int\n",
    "        an integer representing the length of the time series\n",
    "    Timeseries[position:int]: number\n",
    "        returns the value of the TimeSeries at position\n",
    "    Timeseries[position:int] = value:int/float\n",
    "        set value of TimeSeries at position to be value\n",
    "    __str__ / __repr__:\n",
    "        when printing TimeSeries, if the total length of the Timeseries is greater than 10\n",
    "        the result shows the first ten elements and its total length, else it prints the \n",
    "        whole Timeseries\n",
    "        \n",
    "    Examples\n",
    "    --------\n",
    "    >>> threes = TimeSeries(range(0,10000,3))\n",
    "    >>> zeroes=TimeSeries(range(0,10,3))\n",
    "    >>> print(zeroes)\n",
    "    [0, 3, 6, 9]\n",
    "    >>> print(threes)\n",
    "    [3, 6, 9, 12, 15, 18, 21, 24, 27...,length=3334]\n",
    "        \n",
    "    Notes\n",
    "    -----\n",
    "    PRE: `data` is numeric\n",
    "    \n",
    "    \"\"\"\n",
    "    def __init__(self,data):\n",
    "        self.data=list(data)\n",
    "        self.len=len(data)\n",
    "    def __len__(self):\n",
    "        return len(self.data)\n",
    "    def __getitem__(self, position):\n",
    "        return self.data[position]\n",
    "    def __setitem__(self,position,value):\n",
    "        self._data[position]=value\n",
    "    def __str__(self):\n",
    "        if self.len>10:\n",
    "            return '[{}...,length={}]'.format(str(self.data[1:10])[1:-1], self.len)\n",
    "        return '{}'.format(self.data)\n",
    "    def __repr__(self):\n",
    "        if self.len>10:\n",
    "            return '[{}...,length={}]'.format(str(self.data[1:10])[1:-1], self.len)\n",
    "        return '{}'.format(self.data)\n",
    "    "
   ]
  },
  {
   "cell_type": "code",
   "execution_count": 2,
   "metadata": {
    "collapsed": false
   },
   "outputs": [
    {
     "name": "stdout",
     "output_type": "stream",
     "text": [
      "sum 233168\n"
     ]
    }
   ],
   "source": [
    "# from yourfile import TimeSeries\n",
    "\n",
    "# projecteuler.net/problem=1\n",
    "# Note: this is decidely *not* the intended purpose of this class.\n",
    "from timeseries import TimeSeries\n",
    "threes = TimeSeries(range(0,10000,3))\n",
    "fives = TimeSeries(range(0,1000,5))\n",
    "\n",
    "s = 0\n",
    "for i in range(0,1000):\n",
    "  if i in threes or i in fives:\n",
    "    s += i\n",
    "\n",
    "print(\"sum\",s)"
   ]
  },
  {
   "cell_type": "code",
   "execution_count": 3,
   "metadata": {
    "collapsed": false
   },
   "outputs": [
    {
     "name": "stdout",
     "output_type": "stream",
     "text": [
      "[0, 3, 6, 9]\n",
      "[3, 6, 9, 12, 15, 18, 21, 24, 27...,length=3334]\n"
     ]
    },
    {
     "data": {
      "text/plain": [
       "3334"
      ]
     },
     "execution_count": 3,
     "metadata": {},
     "output_type": "execute_result"
    }
   ],
   "source": [
    "threes = TimeSeries(range(0,10000,3))\n",
    "zeroes=TimeSeries(range(0,10,3))\n",
    "print(zeroes)\n",
    "print(threes)\n",
    "threes.len"
   ]
  },
  {
   "cell_type": "code",
   "execution_count": 4,
   "metadata": {
    "collapsed": false
   },
   "outputs": [
    {
     "name": "stdout",
     "output_type": "stream",
     "text": [
      "[1, 2, 3, 4, 5, 6, 7, 8, 9...,length=1000000]\n"
     ]
    }
   ],
   "source": [
    "print( TimeSeries(range(0,1000000)) )"
   ]
  }
 ],
 "metadata": {
  "kernelspec": {
   "display_name": "Python 3",
   "language": "python",
   "name": "python3"
  },
  "language_info": {
   "codemirror_mode": {
    "name": "ipython",
    "version": 3
   },
   "file_extension": ".py",
   "mimetype": "text/x-python",
   "name": "python",
   "nbconvert_exporter": "python",
   "pygments_lexer": "ipython3",
   "version": "3.5.1"
  }
 },
 "nbformat": 4,
 "nbformat_minor": 0
}
