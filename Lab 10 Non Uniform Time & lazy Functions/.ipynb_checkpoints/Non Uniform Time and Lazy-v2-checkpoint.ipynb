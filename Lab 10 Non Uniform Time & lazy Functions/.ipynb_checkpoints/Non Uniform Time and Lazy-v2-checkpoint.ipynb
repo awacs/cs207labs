{
 "cells": [
  {
   "cell_type": "code",
   "execution_count": 105,
   "metadata": {
    "collapsed": false
   },
   "outputs": [],
   "source": [
    "# %%file timeseries.py\n",
    "import numpy as np\n",
    "\n",
    "def f(a):\n",
    "    return a\n",
    "\n",
    "class LazyOperation():\n",
    "    \"\"\"\n",
    "    An class that takes a function and an arbitrary number of positional arguments \n",
    "    or keyword arguments as input\n",
    "    \n",
    "    Parameters\n",
    "    ----------\n",
    "    function : an arbitrary function\n",
    "    args : arbitrary positional arguments\n",
    "    kwargs : arbitrary keyword arguments\n",
    "   \n",
    "    Returns\n",
    "    -------\n",
    "    eval(LazyOperation): value\n",
    "        a value representing the result of evaluating function with arguments args and kwargs\n",
    "    __str__ / __repr__:\n",
    "        when printing LazyOperation, the class name is printed followed by the function name,\n",
    "        the positional arguments and the keyword arguments \n",
    "    \n",
    "    Examples\n",
    "    --------\n",
    "    >>> a = TimeSeries([0,5,10], [1,2,3])\n",
    "    >>> b = TimeSeries([1,2,3], [5,8,9])\n",
    "    >>> thunk = check_length(a,b)\n",
    "    >>> thunk.eval()\n",
    "    True\n",
    "    >>> assert isinstance( lazy_add(1,2), LazyOperation ) == True\n",
    "    >>> thunk = lazy_mul( lazy_add(1,2), 4)\n",
    "    >>> thunk.eval()\n",
    "    12\n",
    "    \"\"\"\n",
    "      \n",
    "    def __init__(self,function,*args,**kwargs):\n",
    "        self.function = function\n",
    "        self.args = args\n",
    "        self.kwargs = kwargs\n",
    "    def __str__(self):\n",
    "        class_name = type(self).__name__\n",
    "        function_name = self.function.__name__\n",
    "        str_return = \"{}( {}, args = {}, kwargs = {} )\".format(class_name, function_name, self.args, self.kwargs)\n",
    "        return str_return\n",
    "    def eval(self):\n",
    "        l = []\n",
    "        for arg in self.args:\n",
    "            if type(arg).__name__ == type(self).__name__:\n",
    "                l += [arg.eval()]\n",
    "            else:\n",
    "                l += [arg]\n",
    "        self.args = tuple(l)\n",
    "        for kwarg in self.kwargs:\n",
    "            if type(self.kwargs[kwarg]).__name__ == type(self).__name__:\n",
    "                self.kwargs[kwarg] = self.kwargs[kwarg].eval()\n",
    "        return self.function(*self.args,**self.kwargs)\n",
    "\n",
    "\n",
    "class TimeSeries(): \n",
    "    \"\"\"\n",
    "    An class that takes a sequence of integers or floats as input\n",
    "    \n",
    "    Parameters\n",
    "    ----------\n",
    "    data : any finite numeric sequence\n",
    "    time : any finite, monotonically increasing numeric sequence\n",
    "   \n",
    "    Returns\n",
    "    -------\n",
    "    len(TimeSeries): int\n",
    "        an integer representing the length of the time series\n",
    "    Timeseries[position:int]: number\n",
    "        returns the value of the TimeSeries at position\n",
    "    Timeseries[position:int] = value:int/float\n",
    "        set value of TimeSeries at position to be value\n",
    "    __str__ / __repr__:\n",
    "        when printing TimeSeries, if the total length of the Timeseries is greater than 10\n",
    "        the result shows the first ten elements and its total length, else it prints the \n",
    "        whole Timeseries\n",
    "        \n",
    "    Examples\n",
    "    --------\n",
    "    >>> a = TimeSeries([0,5,10], [1,2,3])\n",
    "    >>> threes = TimeSeries(range(100),range(100))\n",
    "    >>> len(a)\n",
    "    3\n",
    "    >>> a[10]\n",
    "    3\n",
    "    >>> a[10]=10\n",
    "    >>> a[10]\n",
    "    10\n",
    "    >>> print(a)\n",
    "    [(0, 1), (5, 2), (10, 10)]\n",
    "    >>> print(threes)\n",
    "    [(0, 0), (1, 1), (2, 2), (3, 3), (4, 4), (5, 5), (6, 6), (7, 7), (8, 8), (9, 9), ...], length=100\n",
    "    >>> [v for v in TimeSeries([0,1,2],[1,3,5])]\n",
    "    [1, 3, 5]\n",
    "    >>> a = TimeSeries([0,5,10], [1,2,3])\n",
    "    >>> b = TimeSeries([2.5,7.5], [100, -100])\n",
    "    >>> print(a.interpolate([1])) \n",
    "    [(1, 1.2)]\n",
    "    >>> print(a.interpolate(b.times()))\n",
    "    [(2.5, 1.5), (7.5, 2.5)]\n",
    "    >>> print(a.interpolate([-100,100]))\n",
    "    [(-100, 1.0), (100, 3.0)]\n",
    "    >>> b.mean()\n",
    "    0.0\n",
    "    >>> a.mean()\n",
    "    2.0\n",
    "    >>> a = TimeSeries([],[])\n",
    "    >>> a.mean()\n",
    "    nan\n",
    "    >>> a = TimeSeries([1,2],[1,'a'])\n",
    "    >>> a.mean()\n",
    "    Traceback (most recent call last):\n",
    "        ...\n",
    "    TypeError: cannot perform reduce with flexible type\n",
    "    \n",
    "    Notes\n",
    "    -----\n",
    "    PRE: `data` is numeric\n",
    "    \n",
    "    \"\"\"\n",
    "    def __init__(self,time,data):\n",
    "        if len(time)!=len(data):\n",
    "            raise \"Not the same length\"\n",
    "        self.time=np.array(time)\n",
    "        self.data=np.array(data)\n",
    "        self.index=0\n",
    "        self.len=len(time)\n",
    "        \n",
    "    def __len__(self):\n",
    "        return len(self.data)\n",
    "    def __getitem__(self, time):\n",
    "        if time in self.time:\n",
    "            return int(self.data[np.where(self.time==time)])\n",
    "        raise \"Time does not exist\"\n",
    "    def __setitem__(self,time,value):\n",
    "        if time not in self.time:\n",
    "             raise \"Time does not exist\"\n",
    "        self.data[np.where(self.time==time)]=value\n",
    "    def __contains__(self, time):\n",
    "        return time in self.time\n",
    "    def __next__(self): \n",
    "        try:\n",
    "            word = self.data[self.index] \n",
    "        except IndexError:\n",
    "            raise StopIteration() \n",
    "        self.index += 1\n",
    "        return word \n",
    "    def __iter__(self):\n",
    "        return self    \n",
    "    def itertimes(self):\n",
    "        return iter(self.time)\n",
    "    def itervalues(self):\n",
    "        return iter(self.data)\n",
    "    def iteritems(self):\n",
    "        return iter(list(zip(self.time,self.data)))\n",
    "    def __str__(self):\n",
    "        if self.len>10:\n",
    "            return '[{}, ...], length={}'.format(str(list(zip(self.time,self.data))[0:10])[1:-1], self.len)\n",
    "        return '{}'.format(list(zip(self.time,self.data)))\n",
    "    def __repr__(self):\n",
    "        if self.len>10:\n",
    "            return '[{}, ...], length={}'.format(str(list(zip(self.time,self.data))[0:10])[1:-1], self.len)\n",
    "        return '{}'.format(list(zip(self.time,self.data)))\n",
    "    def values(self):\n",
    "        return list(self.data)\n",
    "    def times(self):\n",
    "        return list(self.time)\n",
    "    def items(self):\n",
    "        return list(zip(self.time,self.data))\n",
    "    def interpolate(self,newtime):\n",
    "        newvalue=np.interp(newtime,self.time,self.data)\n",
    "        return TimeSeries(newtime,newvalue)\n",
    "    @property\n",
    "    def lazy(self):\n",
    "        lazy_fun = LazyOperation(f,self)\n",
    "        return lazy_fun\n",
    "    def mean(self):\n",
    "        return np.mean(self.data)\n",
    "    def median(self):\n",
    "        return np.median(self.data)\n",
    "\n",
    "def lazy(f):\n",
    "    def inner(*args,**kwargs):\n",
    "        inner.__name__ = f.__name__\n",
    "        lazy_fun = LazyOperation(f,*args,**kwargs)\n",
    "        return lazy_fun\n",
    "    return inner\n",
    "\n",
    "@lazy\n",
    "def check_length(a,b):\n",
    "    return len(a)==len(b)\n",
    "\n",
    "@lazy\n",
    "def lazy_add(a,b):\n",
    "    return a+b\n",
    "\n",
    "@lazy\n",
    "def lazy_mul(a,b):\n",
    "    return a*b"
   ]
  },
  {
   "cell_type": "code",
   "execution_count": 53,
   "metadata": {
    "collapsed": false,
    "scrolled": false
   },
   "outputs": [
    {
     "name": "stdout",
     "output_type": "stream",
     "text": [
      "Finding tests in NoName\n",
      "Trying:\n",
      "    a = TimeSeries([0,5,10], [1,2,3])\n",
      "Expecting nothing\n",
      "ok\n",
      "Trying:\n",
      "    b = TimeSeries([1,2,3], [5,8,9])\n",
      "Expecting nothing\n",
      "ok\n",
      "Trying:\n",
      "    thunk = check_length(a,b)\n",
      "Expecting nothing\n",
      "ok\n",
      "Trying:\n",
      "    thunk.eval()\n",
      "Expecting:\n",
      "    True\n",
      "ok\n",
      "Trying:\n",
      "    assert isinstance( lazy_add(1,2), LazyOperation ) == True\n",
      "Expecting nothing\n",
      "ok\n",
      "Trying:\n",
      "    thunk = lazy_mul( lazy_add(1,2), 4)\n",
      "Expecting nothing\n",
      "ok\n",
      "Trying:\n",
      "    thunk.eval()\n",
      "Expecting:\n",
      "    12\n",
      "ok\n"
     ]
    }
   ],
   "source": [
    "# from timeseries import TimeSeries\n",
    "from pydoc import doc as pydoc\n",
    "from doctest import run_docstring_examples as dtest\n",
    "dtest(LazyOperation, globals(), verbose=True)"
   ]
  },
  {
   "cell_type": "code",
   "execution_count": 10,
   "metadata": {
    "collapsed": false
   },
   "outputs": [
    {
     "name": "stdout",
     "output_type": "stream",
     "text": [
      "[(0, 0), (1, 1), (2, 2), (3, 3), (4, 4), (5, 5), (6, 6), (7, 7), (8, 8), (9, 9), ...], length=100\n"
     ]
    }
   ],
   "source": [
    "threes = TimeSeries(range(100),range(100))\n",
    "print(threes)"
   ]
  },
  {
   "cell_type": "code",
   "execution_count": 105,
   "metadata": {
    "collapsed": false
   },
   "outputs": [
    {
     "data": {
      "text/plain": [
       "[1, 3, 5]"
      ]
     },
     "execution_count": 105,
     "metadata": {},
     "output_type": "execute_result"
    }
   ],
   "source": [
    "[v for v in TimeSeries([0,1,2],[1,3,5])]"
   ]
  },
  {
   "cell_type": "code",
   "execution_count": 11,
   "metadata": {
    "collapsed": false
   },
   "outputs": [
    {
     "name": "stdout",
     "output_type": "stream",
     "text": [
      "[(1, 1.2)]\n",
      "[(2.5, 1.5), (7.5, 2.5)]\n",
      "[(-100, 1.0), (100, 3.0)]\n"
     ]
    }
   ],
   "source": [
    "a = TimeSeries([0,5,10], [1,2,3])\n",
    "b = TimeSeries([2.5,7.5], [100, -100])\n",
    "# Simple cases\n",
    "print(a.interpolate([1])) # == TimeSeries([1],[1.2])\n",
    "print(a.interpolate(b.times())) # == TimeSeries([2.5,7.5], [1.5, 2.5])\n",
    "# Boundary conditions\n",
    "print(a.interpolate([-100,100]) )# == TimeSeries([-100,100],[1,3])"
   ]
  },
  {
   "cell_type": "code",
   "execution_count": 29,
   "metadata": {
    "collapsed": false
   },
   "outputs": [
    {
     "name": "stdout",
     "output_type": "stream",
     "text": [
      "[(1, 1), (2, 4), (3, 9), (4, 16)]\n",
      "[(1, 1), (2, 4), (3, 9), (4, 16)]\n"
     ]
    }
   ],
   "source": [
    "x = TimeSeries([1,2,3,4],[1,4,9,16]); print(x); print(x.lazy.eval())"
   ]
  },
  {
   "cell_type": "code",
   "execution_count": 106,
   "metadata": {
    "collapsed": false
   },
   "outputs": [
    {
     "data": {
      "text/plain": [
       "(1, 4)"
      ]
     },
     "execution_count": 106,
     "metadata": {},
     "output_type": "execute_result"
    }
   ],
   "source": [
    "x = TimeSeries([1,2,3,4],[1,4,9,16])\n",
    "v = iter(x)\n",
    "next(v),next(v),\n",
    "#for i in x.iteritems():\n",
    "#    print(i)"
   ]
  },
  {
   "cell_type": "code",
   "execution_count": null,
   "metadata": {
    "collapsed": false
   },
   "outputs": [],
   "source": []
  },
  {
   "cell_type": "code",
   "execution_count": null,
   "metadata": {
    "collapsed": true
   },
   "outputs": [],
   "source": []
  }
 ],
 "metadata": {
  "kernelspec": {
   "display_name": "Python 3",
   "language": "python",
   "name": "python3"
  },
  "language_info": {
   "codemirror_mode": {
    "name": "ipython",
    "version": 3
   },
   "file_extension": ".py",
   "mimetype": "text/x-python",
   "name": "python",
   "nbconvert_exporter": "python",
   "pygments_lexer": "ipython3",
   "version": "3.5.1"
  }
 },
 "nbformat": 4,
 "nbformat_minor": 0
}
